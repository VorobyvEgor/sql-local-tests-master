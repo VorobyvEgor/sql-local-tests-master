{
 "cells": [
  {
   "cell_type": "markdown",
   "metadata": {
    "toc": true
   },
   "source": [
    "<h1>Table of Contents<span class=\"tocSkip\"></span></h1>\n",
    "<div class=\"toc\"><ul class=\"toc-item\"></ul></div>"
   ]
  },
  {
   "cell_type": "code",
   "execution_count": 38,
   "metadata": {},
   "outputs": [
    {
     "name": "stdout",
     "output_type": "stream",
     "text": [
      "Имена столбцов в SQL-запросе:\n",
      "lost_profit\n",
      "\n",
      "Результат SQL-запроса:\n",
      "403200\n"
     ]
    }
   ],
   "source": [
    "import sqlite3\n",
    "\n",
    "\n",
    "def init_airtrans_db(connection, cursor):\n",
    "    with open('sql/INIT_DB.sql') as initial_sql_script_fin:\n",
    "        init_db_script = initial_sql_script_fin.read().strip()\n",
    "        cursor.executescript(init_db_script)\n",
    "        connection.commit()\n",
    "\n",
    "\n",
    "def run_query(cursor, sql_query):\n",
    "    cursor.execute(sql_query)\n",
    "    columns = [description[0] for description in cursor.description]\n",
    "    rows = cursor.fetchall()\n",
    "    return {\n",
    "        'columns': columns,\n",
    "        'rows': [list(row) for row in rows]\n",
    "    }\n",
    "\n",
    "\n",
    "def test_query():\n",
    "    connection = sqlite3.connect(':memory:')\n",
    "    cursor = connection.cursor()\n",
    "    init_airtrans_db(connection, cursor)\n",
    "\n",
    "    # место для запуска SQL запросов\n",
    "    with open('sql/test.sql') as sql_query_fin:\n",
    "        sql_query = sql_query_fin.read().strip()\n",
    "    query_result = run_query(cursor, sql_query)\n",
    "\n",
    "    print('Имена столбцов в SQL-запросе:')\n",
    "    print(*query_result['columns'], sep=',')\n",
    "    print()\n",
    "    print('Результат SQL-запроса:')\n",
    "    for row in query_result['rows']:\n",
    "        print(*row, sep=',')\n",
    "\n",
    "\n",
    "if __name__ == '__main__':\n",
    "    try:\n",
    "        test_query()\n",
    "    except Exception as e:\n",
    "        print('Возникла ошибка:')\n",
    "        print(e)"
   ]
  },
  {
   "cell_type": "code",
   "execution_count": null,
   "metadata": {},
   "outputs": [],
   "source": [
    "Имена столбцов в SQL-запросе:\n",
    "aircraft_code,flights_num\n",
    "\n",
    "Результат SQL-запроса:\n",
    "319,9\n",
    "321,19\n",
    "733,19\n",
    "763,34\n",
    "773,35\n",
    "CN1,4\n",
    "CR2,30\n",
    "SU9,98"
   ]
  },
  {
   "cell_type": "code",
   "execution_count": null,
   "metadata": {},
   "outputs": [],
   "source": []
  }
 ],
 "metadata": {
  "kernelspec": {
   "display_name": "Python 3",
   "language": "python",
   "name": "python3"
  },
  "language_info": {
   "codemirror_mode": {
    "name": "ipython",
    "version": 3
   },
   "file_extension": ".py",
   "mimetype": "text/x-python",
   "name": "python",
   "nbconvert_exporter": "python",
   "pygments_lexer": "ipython3",
   "version": "3.8.5"
  },
  "toc": {
   "base_numbering": 1,
   "nav_menu": {},
   "number_sections": true,
   "sideBar": true,
   "skip_h1_title": false,
   "title_cell": "Table of Contents",
   "title_sidebar": "Contents",
   "toc_cell": true,
   "toc_position": {},
   "toc_section_display": true,
   "toc_window_display": false
  }
 },
 "nbformat": 4,
 "nbformat_minor": 4
}
